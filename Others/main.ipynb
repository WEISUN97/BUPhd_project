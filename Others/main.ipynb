{
 "cells": [
  {
   "cell_type": "code",
   "execution_count": 3,
   "metadata": {},
   "outputs": [
    {
     "name": "stdout",
     "output_type": "stream",
     "text": [
      "Runtime: 1.424529790878296 seconds\n",
      "\n",
      "Saved to: Z:\\xwei2\\Layout\\CNSTPython\\layouts\\straight_waveguide_inverse.gds\n",
      "\n",
      "Please acknowledge the Nanolithography Toolbox by including the following reference:\n",
      "\n",
      "The Nanolithography Toolbox, K. C. Balram, D. A. Westly, M. Davanco, K. E. Grutter, Q. Li, T. Michels, C. H. Ray, L. Yu,  R. J. Kasica,  C. B. Wallin, I. J. Gilbert, B. A. Bryce, G. Simelgor, J. Topolancik, N. Lobontiu , Y. Liu, P. Neuzil, V. Svatos, K. A. Dill, N. A. Bertrand, M. G. Metzler, G. Lopez, D. A. Czaplewski, L. Ocola, K. A. Srinivasan, S. M. Stavis, V. A. Aksyuk, J. A. Liddle, S. Krylov and B. R. Ilic, J. Res. Natl. Inst. Stand. 121, pp. 464-475 (2016).\n",
      "\n"
     ]
    }
   ],
   "source": [
    "from cnst_gen import CNSTGenerator\n",
    "from geo import WaveguideInverse, Structure\n",
    "\n",
    "generator = CNSTGenerator()\n",
    "straight_waveguide_inverse = Structure('StraightWaveguide')\n",
    "\n",
    "straight_waveguide_inverse.add(WaveguideInverse(\n",
    "    0,0,0.43,3e3,1.5,0\n",
    "))\n",
    "\n",
    "generator.add('2 layer')\n",
    "generator.add(straight_waveguide_inverse)\n",
    "\n",
    "generator.generate('result/straight_waveguide_inverse.cnst','layouts/straight_waveguide_inverse.gds')"
   ]
  },
  {
   "cell_type": "code",
   "execution_count": 16,
   "metadata": {},
   "outputs": [
    {
     "name": "stdout",
     "output_type": "stream",
     "text": [
      "\n",
      "Saved to: Z:\\xwei2\\Layout\\CNSTPython\\result\\resonators_cant_ring.gds\n",
      "\n",
      "Please acknowledge the Nanolithography Toolbox by including the following reference:\n",
      "\n",
      "The Nanolithography Toolbox, K. C. Balram, D. A. Westly, M. Davanco, K. E. Grutter, Q. Li, T. Michels, C. H. Ray, L. Yu,  R. J. Kasica,  C. B. Wallin, I. J. Gilbert, B. A. Bryce, G. Simelgor, J. Topolancik, N. Lobontiu , Y. Liu, P. Neuzil, V. Svatos, K. A. Dill, N. A. Bertrand, M. G. Metzler, G. Lopez, D. A. Czaplewski, L. Ocola, K. A. Srinivasan, S. M. Stavis, V. A. Aksyuk, J. A. Liddle, S. Krylov and B. R. Ilic, J. Res. Natl. Inst. Stand. 121, pp. 464-475 (2016).\n",
      "\n"
     ]
    },
    {
     "ename": "",
     "evalue": "",
     "output_type": "error",
     "traceback": [
      "\u001b[1;31mThe Kernel crashed while executing code in the current cell or a previous cell. \n",
      "\u001b[1;31mPlease review the code in the cell(s) to identify a possible cause of the failure. \n",
      "\u001b[1;31mClick <a href='https://aka.ms/vscodeJupyterKernelCrash'>here</a> for more info. \n",
      "\u001b[1;31mView Jupyter <a href='command:jupyter.viewOutput'>log</a> for further details."
     ]
    }
   ],
   "source": [
    "from cnst_gen import CNSTGenerator\n",
    "from geo import RectangleC, RingResonator, Structure, Waveguide,LabelMaker\n",
    "import numpy as np\n",
    "width = 0.43\n",
    "nrows = 10\n",
    "generator = CNSTGenerator()\n",
    "gap_values = np.array(range(50,250,10))*1e-3\n",
    "y_values = [i*30 for i,_ in enumerate(gap_values)]\n",
    "generator.add(Structure('resonators'))\n",
    "labels = [f'gap:{gap*1e3:.0f} nm' for gap in gap_values]\n",
    "for y,gap in zip(y_values,gap_values):\n",
    "    rc = RingResonator(x=0,y=y,r=5,w=width,\n",
    "                       x_span=20, lc=0, gap=gap, n_seg=50)\n",
    "    generator.add(rc)\n",
    "    info = rc.info\n",
    "    waveguide = Waveguide(x=20,y=y,w=width,l=20)\n",
    "    generator.add(waveguide)\n",
    "    x_center = info['x_center']\n",
    "    y_center = info['y_center']\n",
    "    generator.add(RectangleC(x_center, y_center+5+width/2+0.08+gap, 3, 0.16, 0))\n",
    "label = LabelMaker(labels=labels, row=len(gap_values), col=0, \n",
    "                   font_name='Serif', font_size=3,\n",
    "                   x=0, y=0, xr=22,yr=5,dx=0,dy=-30,type='out')\n",
    "generator.add(label)\n",
    "generator.generate(r'result\\resonators_cant.cnst',r'result\\resonators_cant_ring.gds',show=True)"
   ]
  },
  {
   "cell_type": "code",
   "execution_count": 13,
   "metadata": {},
   "outputs": [
    {
     "name": "stdout",
     "output_type": "stream",
     "text": [
      "\n",
      "Saved to: Z:\\xwei2\\Layout\\CNSTPython\\result\\text_test.gds\n",
      "\n",
      "Please acknowledge the Nanolithography Toolbox by including the following reference:\n",
      "\n",
      "The Nanolithography Toolbox, K. C. Balram, D. A. Westly, M. Davanco, K. E. Grutter, Q. Li, T. Michels, C. H. Ray, L. Yu,  R. J. Kasica,  C. B. Wallin, I. J. Gilbert, B. A. Bryce, G. Simelgor, J. Topolancik, N. Lobontiu , Y. Liu, P. Neuzil, V. Svatos, K. A. Dill, N. A. Bertrand, M. G. Metzler, G. Lopez, D. A. Czaplewski, L. Ocola, K. A. Srinivasan, S. M. Stavis, V. A. Aksyuk, J. A. Liddle, S. Krylov and B. R. Ilic, J. Res. Natl. Inst. Stand. 121, pp. 464-475 (2016).\n",
      "\n"
     ]
    }
   ],
   "source": [
    "from cnst_gen import CNSTGenerator\n",
    "from geo import RectangleC, RingResonator, Structure, Waveguide,LabelMaker\n",
    "import numpy as np\n",
    "labels = [str(i) for i in range(20)]\n",
    "label = LabelMaker(labels=labels, row=len(gap_values), col=0, \n",
    "                   font_name='Serif', font_size=3,\n",
    "                   x=0, y=0, xr=22,yr=5,dx=0,dy=-30,type='out')\n",
    "generator = CNSTGenerator(shapeReso=0.001)\n",
    "generator.add(Structure('top'))\n",
    "generator.add(label)\n",
    "generator.generate(r'result\\text_test.cnst',r'result\\text_test.gds',show=True)"
   ]
  },
  {
   "cell_type": "code",
   "execution_count": null,
   "metadata": {},
   "outputs": [],
   "source": [
    "import sys\n",
    "sys.path.append(r'C:\\Program Files (x86)\\LayoutEditor\\python')\n",
    "import LayoutScript"
   ]
  }
 ],
 "metadata": {
  "kernelspec": {
   "display_name": "base",
   "language": "python",
   "name": "python3"
  },
  "language_info": {
   "codemirror_mode": {
    "name": "ipython",
    "version": 3
   },
   "file_extension": ".py",
   "mimetype": "text/x-python",
   "name": "python",
   "nbconvert_exporter": "python",
   "pygments_lexer": "ipython3",
   "version": "3.11.7"
  }
 },
 "nbformat": 4,
 "nbformat_minor": 2
}
